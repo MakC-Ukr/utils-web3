{
  "nbformat": 4,
  "nbformat_minor": 0,
  "metadata": {
    "colab": {
      "name": "Web3py_SendTxn.ipynb",
      "private_outputs": true,
      "provenance": []
    },
    "kernelspec": {
      "name": "python3",
      "display_name": "Python 3"
    },
    "language_info": {
      "name": "python"
    }
  },
  "cells": [
    {
      "cell_type": "code",
      "execution_count": null,
      "metadata": {
        "id": "-vvvG_NaGt9V"
      },
      "outputs": [],
      "source": [
        "# pip install web3"
      ]
    },
    {
      "cell_type": "code",
      "source": [
        "# pip install py-solc-x"
      ],
      "metadata": {
        "id": "MBHZFyAWGvlQ"
      },
      "execution_count": null,
      "outputs": []
    },
    {
      "cell_type": "code",
      "source": [
        "from web3 import Web3\n",
        "from solcx import compile_source\n",
        "w3 = Web3(Web3.HTTPProvider('https://polygon-mumbai.infura.io/v3/INFURA_API_KEY'))"
      ],
      "metadata": {
        "id": "zzXEXTI_GvfA"
      },
      "execution_count": null,
      "outputs": []
    },
    {
      "cell_type": "code",
      "source": [
        "Private_Key  =  'MY_PRIVATE_KEY'\n",
        "from_address  =  '0x8Ba3a7288d062f630dc19FfF998DDBab213c64E9'\n",
        "to_address  =  '0x1Abf3a6C41035C1d2A3c74ec22405B54450f5e13'"
      ],
      "metadata": {
        "id": "X6JNEp2UG6r7"
      },
      "execution_count": null,
      "outputs": []
    },
    {
      "cell_type": "code",
      "source": [
        "nonce = w3.eth.getTransactionCount(from_address)\n",
        "gasPrice = w3.toWei('50', 'gwei')\n",
        "value = w3.toWei(0.01, 'ether')\n",
        "\n",
        "tx = {\n",
        "    'nonce': nonce,\n",
        "    'to': to_address,\n",
        "    'value': value,\n",
        "    'gas': 2000000,\n",
        "    'gasPrice': gasPrice,\n",
        "    'chainId': 80001\n",
        "}"
      ],
      "metadata": {
        "id": "x0UR4TRBG0SB"
      },
      "execution_count": null,
      "outputs": []
    },
    {
      "cell_type": "code",
      "source": [
        "signed_tx = w3.eth.account.sign_transaction(tx, Private_Key)"
      ],
      "metadata": {
        "id": "qRljhk2pG0lc"
      },
      "execution_count": null,
      "outputs": []
    },
    {
      "cell_type": "code",
      "source": [
        "tx_hash = w3.eth.send_raw_transaction(signed_tx.rawTransaction)"
      ],
      "metadata": {
        "id": "MWgjawrRG3ND"
      },
      "execution_count": null,
      "outputs": []
    }
  ]
}