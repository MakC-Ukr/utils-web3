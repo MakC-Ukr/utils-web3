{
  "cells": [
    {
      "cell_type": "markdown",
      "source": [
        "### Necessary pip installs"
      ],
      "metadata": {
        "id": "-Qdr91QTBq_L"
      },
      "id": "-Qdr91QTBq_L"
    },
    {
      "cell_type": "code",
      "source": [
        "pip install \"pymongo[srv]\""
      ],
      "metadata": {
        "id": "evYbP-KC-dg3",
        "colab": {
          "base_uri": "https://localhost:8080/"
        },
        "outputId": "5d15493a-0548-4c86-ab39-e8c0d19c266c"
      },
      "id": "evYbP-KC-dg3",
      "execution_count": null,
      "outputs": [
        {
          "output_type": "stream",
          "name": "stdout",
          "text": [
            "Looking in indexes: https://pypi.org/simple, https://us-python.pkg.dev/colab-wheels/public/simple/\n",
            "Requirement already satisfied: pymongo[srv] in /usr/local/lib/python3.7/dist-packages (4.1.1)\n",
            "Collecting dnspython<3.0.0,>=1.16.0\n",
            "  Downloading dnspython-2.2.1-py3-none-any.whl (269 kB)\n",
            "\u001b[K     |████████████████████████████████| 269 kB 5.7 MB/s \n",
            "\u001b[?25hInstalling collected packages: dnspython\n",
            "Successfully installed dnspython-2.2.1\n"
          ]
        }
      ]
    },
    {
      "cell_type": "code",
      "source": [
        "pip install web3"
      ],
      "metadata": {
        "id": "h9Q6K4Y3--kw",
        "colab": {
          "base_uri": "https://localhost:8080/"
        },
        "outputId": "df7d92ce-55a9-4223-e385-f7ac637279da"
      },
      "id": "h9Q6K4Y3--kw",
      "execution_count": null,
      "outputs": [
        {
          "output_type": "stream",
          "name": "stdout",
          "text": [
            "  Building wheel for cytoolz (setup.py) ... \u001b[?25l\u001b[?25hdone\n",
            "  Created wheel for cytoolz: filename=cytoolz-0.11.2-cp37-cp37m-linux_x86_64.whl size=1236706 sha256=2f5d535a4bdedd8c9cde9fda866b4502ccd35a356a9d3c8b351698eb50ba17f6\n",
            "  Stored in directory: /root/.cache/pip/wheels/38/70/71/ca13ea3d36ccd0b3d0ec7d7a4ca67522048d695b556bba4f59\n",
            "  Building wheel for lru-dict (setup.py) ... \u001b[?25l\u001b[?25hdone\n",
            "  Created wheel for lru-dict: filename=lru_dict-1.1.7-cp37-cp37m-linux_x86_64.whl size=28422 sha256=5a9952e147bbd995534e189c79fc5c377ef407981a89378659f2adad0a509694\n",
            "  Stored in directory: /root/.cache/pip/wheels/9d/0b/4e/aa8fec9833090cd52bcd76f92f9d95e1ee7b915c12093663b4\n",
            "  Building wheel for parsimonious (setup.py) ... \u001b[?25l\u001b[?25hdone\n",
            "  Created wheel for parsimonious: filename=parsimonious-0.8.1-py3-none-any.whl size=42723 sha256=2bfcce2efc616eaeb0cb4c05d807389e18026a5e1b94cd7cf4ca8b44aec5c3f3\n",
            "  Stored in directory: /root/.cache/pip/wheels/88/5d/ba/f27d8af07306b65ee44f9d3f9cadea1db749a421a6db8a99bf\n",
            "  Building wheel for varint (setup.py) ... \u001b[?25l\u001b[?25hdone\n",
            "  Created wheel for varint: filename=varint-1.0.2-py3-none-any.whl size=1980 sha256=2d86646f51d1cf085a77fb6542c9adbeb40c94d8dfee5d4e286d615abd45aebf\n",
            "  Stored in directory: /root/.cache/pip/wheels/69/21/07/09f1c6a7d9b59377aa6d98da6efdd670f7ca40aabd93d02704\n",
            "Successfully built bitarray cytoolz lru-dict parsimonious varint\n",
            "Installing collected packages: eth-typing, eth-hash, cytoolz, eth-utils, varint, rlp, pycryptodome, parsimonious, netaddr, multidict, hexbytes, frozenlist, eth-keys, base58, yarl, multiaddr, eth-rlp, eth-keyfile, eth-abi, bitarray, asynctest, async-timeout, aiosignal, websockets, lru-dict, ipfshttpclient, eth-account, aiohttp, web3\n",
            "Successfully installed aiohttp-3.8.1 aiosignal-1.2.0 async-timeout-4.0.2 asynctest-0.13.0 base58-2.1.1 bitarray-1.2.2 cytoolz-0.11.2 eth-abi-2.1.1 eth-account-0.5.7 eth-hash-0.3.2 eth-keyfile-0.5.1 eth-keys-0.3.4 eth-rlp-0.2.1 eth-typing-2.3.0 eth-utils-1.10.0 frozenlist-1.3.0 hexbytes-0.2.2 ipfshttpclient-0.8.0a2 lru-dict-1.1.7 multiaddr-0.0.9 multidict-6.0.2 netaddr-0.8.0 parsimonious-0.8.1 pycryptodome-3.14.1 rlp-2.0.1 varint-1.0.2 web3-5.29.2 websockets-9.1 yarl-1.7.2\n"
          ]
        }
      ]
    },
    {
      "cell_type": "code",
      "source": [
        "pip install py-solc-x"
      ],
      "metadata": {
        "id": "jbl3_FT3BeGK",
        "colab": {
          "base_uri": "https://localhost:8080/"
        },
        "outputId": "fe78d521-5114-4408-9d09-5c533ccb1428"
      },
      "id": "jbl3_FT3BeGK",
      "execution_count": null,
      "outputs": [
        {
          "output_type": "stream",
          "name": "stdout",
          "text": [
            "Looking in indexes: https://pypi.org/simple, https://us-python.pkg.dev/colab-wheels/public/simple/\n",
            "Collecting py-solc-x\n",
            "  Downloading py_solc_x-1.1.1-py3-none-any.whl (15 kB)\n",
            "Requirement already satisfied: requests<3,>=2.19.0 in /usr/local/lib/python3.7/dist-packages (from py-solc-x) (2.23.0)\n",
            "Collecting semantic-version<3,>=2.8.1\n",
            "  Downloading semantic_version-2.10.0-py2.py3-none-any.whl (15 kB)\n",
            "Requirement already satisfied: idna<3,>=2.5 in /usr/local/lib/python3.7/dist-packages (from requests<3,>=2.19.0->py-solc-x) (2.10)\n",
            "Requirement already satisfied: certifi>=2017.4.17 in /usr/local/lib/python3.7/dist-packages (from requests<3,>=2.19.0->py-solc-x) (2022.5.18.1)\n",
            "Requirement already satisfied: urllib3!=1.25.0,!=1.25.1,<1.26,>=1.21.1 in /usr/local/lib/python3.7/dist-packages (from requests<3,>=2.19.0->py-solc-x) (1.24.3)\n",
            "Requirement already satisfied: chardet<4,>=3.0.2 in /usr/local/lib/python3.7/dist-packages (from requests<3,>=2.19.0->py-solc-x) (3.0.4)\n",
            "Installing collected packages: semantic-version, py-solc-x\n",
            "Successfully installed py-solc-x-1.1.1 semantic-version-2.10.0\n"
          ]
        }
      ]
    },
    {
      "cell_type": "code",
      "source": [
        "from solcx import install_solc\n",
        "install_solc(version='latest')"
      ],
      "metadata": {
        "colab": {
          "base_uri": "https://localhost:8080/"
        },
        "id": "OUKXkZ6dBgup",
        "outputId": "dfa327d2-126e-4d4e-c990-90e4667b773d"
      },
      "id": "OUKXkZ6dBgup",
      "execution_count": null,
      "outputs": [
        {
          "output_type": "execute_result",
          "data": {
            "text/plain": [
              "Version('0.8.14')"
            ]
          },
          "metadata": {},
          "execution_count": 4
        }
      ]
    },
    {
      "cell_type": "markdown",
      "source": [
        "### Connecting to MongoDB"
      ],
      "metadata": {
        "id": "Yj8D8IY3BvRX"
      },
      "id": "Yj8D8IY3BvRX"
    },
    {
      "cell_type": "code",
      "source": [
        "from pymongo import MongoClient\n",
        "import pandas as pd"
      ],
      "metadata": {
        "id": "I-uqQ3YzyTvT"
      },
      "id": "I-uqQ3YzyTvT",
      "execution_count": null,
      "outputs": []
    },
    {
      "cell_type": "code",
      "execution_count": null,
      "id": "59380ee1",
      "metadata": {
        "colab": {
          "base_uri": "https://localhost:8080/"
        },
        "id": "59380ee1",
        "outputId": "4d220eca-7573-41cf-e893-f8cb62aa4008"
      },
      "outputs": [
        {
          "output_type": "stream",
          "name": "stdout",
          "text": [
            "Database(MongoClient(host=['cluster0-shard-00-02.vjht5.mongodb.net:27017', 'cluster0-shard-00-01.vjht5.mongodb.net:27017', 'cluster0-shard-00-00.vjht5.mongodb.net:27017'], document_class=dict, tz_aware=False, connect=True, retrywrites=True, w='majority', authsource='admin', replicaset='atlas-way43r-shard-0', tls=True), 'respct')\n"
          ]
        }
      ],
      "source": [
        "# Uncomment the following line only if you actually want to edit data in the DB\n",
        "client = MongoClient(\"\")\n",
        "print(client.respct)\n",
        "\n",
        "db = client.repct\n",
        "user = db['users']\n",
        "nftsData = db['nftdatas']\n",
        "guilds = db['guilds']"
      ]
    },
    {
      "cell_type": "code",
      "execution_count": null,
      "id": "a9bb5eff",
      "metadata": {
        "id": "a9bb5eff"
      },
      "outputs": [],
      "source": [
        "# converting data for nfts to a dataframe\n",
        "x = nftsData.find()\n",
        "x.sort('nftId')\n",
        "ls = []\n",
        "for i in x:\n",
        "    ls.append(i)\n",
        "df = pd.DataFrame(ls)"
      ]
    },
    {
      "cell_type": "markdown",
      "source": [
        "#### All entries with parent Contract not equal to \"\" AND entries with nftId == 0 will be ignored for minting puproses"
      ],
      "metadata": {
        "id": "OVwpxJ3GyX9n"
      },
      "id": "OVwpxJ3GyX9n"
    },
    {
      "cell_type": "code",
      "execution_count": null,
      "id": "3af96a6e",
      "metadata": {
        "id": "3af96a6e"
      },
      "outputs": [],
      "source": [
        "#finding the rows with bogus parentContract addresses and deleting them\n",
        "rows_to_be_deleted = []\n",
        "rowIndex = 0\n",
        "while rowIndex < len(df):\n",
        "    if df.iloc[rowIndex]['parentContract'] != \"\":\n",
        "        rows_to_be_deleted.append(rowIndex)  \n",
        "    if df.iloc[rowIndex]['nftId'] == 0:\n",
        "        rows_to_be_deleted.append(rowIndex)  \n",
        "    rowIndex+=1\n",
        "    \n",
        "for i in reversed(rows_to_be_deleted):\n",
        "    df = df.drop(i)"
      ]
    },
    {
      "cell_type": "code",
      "source": [
        "df.head(3)"
      ],
      "metadata": {
        "id": "pL_oibA8MA8C",
        "colab": {
          "base_uri": "https://localhost:8080/",
          "height": 311
        },
        "outputId": "05a06bb8-978b-4e76-b78a-3695521308f7"
      },
      "id": "pL_oibA8MA8C",
      "execution_count": null,
      "outputs": [
        {
          "output_type": "execute_result",
          "data": {
            "text/plain": [
              "                        _id                                 userAddress  \\\n",
              "2  627ed7e812651145b6cf4a85  0x1D95a1198a12ac56B3AF3247B1520e943a202635   \n",
              "5  627ed86112651145b6cf4a8d  0x44f27E496CBaeC411561400DEB31d3E5B011175d   \n",
              "8  627ed88212651145b6cf4a97  0xa38Dc9e4123f3DC8669F5E89a3A8d7A7633aC941   \n",
              "\n",
              "                               parentContract  \\\n",
              "2  0x9e5BA1E0E88c7B60d94a95B976424D2a544c5a66   \n",
              "5  0x9e5BA1E0E88c7B60d94a95B976424D2a544c5a66   \n",
              "8  0x9e5BA1E0E88c7B60d94a95B976424D2a544c5a66   \n",
              "\n",
              "                                childContract  nftId  currentLevel currentMMR  \\\n",
              "2  0x4324C8d53341A9e837A88cBeCC49bB489aC24414      1             0          0   \n",
              "5  0x4324C8d53341A9e837A88cBeCC49bB489aC24414      2             0          0   \n",
              "8  0x4324C8d53341A9e837A88cBeCC49bB489aC24414      3             0          0   \n",
              "\n",
              "           guildName                       levelURIs  \\\n",
              "2  Blockchain Gaming  [{'boolean': True, 'url': ''}]   \n",
              "5  Blockchain Gaming  [{'boolean': True, 'url': ''}]   \n",
              "8  Blockchain Gaming  [{'boolean': True, 'url': ''}]   \n",
              "\n",
              "                                        baseImageURL  __v  \\\n",
              "2  https://ipfs.io/ipfs/bafkreicoltmqcjk2ggniooxb...  0.0   \n",
              "5  https://ipfs.io/ipfs/bafkreicoltmqcjk2ggniooxb...  0.0   \n",
              "8  https://ipfs.io/ipfs/bafkreicoltmqcjk2ggniooxb...  0.0   \n",
              "\n",
              "                                            metadata  \n",
              "2  ipfs://bafyreifzl5rvsmz7juof4yclfqhvymc2mnfuyq...  \n",
              "5  ipfs://bafyreiazikw27uwpgghh5tligqjux2ixj6j6zu...  \n",
              "8  ipfs://bafyreihh4nm4fwvixuuiehx76rbfrnrtd5hrjt...  "
            ],
            "text/html": [
              "\n",
              "  <div id=\"df-851903a2-6d49-4d5e-95ee-ee0fae254fcd\">\n",
              "    <div class=\"colab-df-container\">\n",
              "      <div>\n",
              "<style scoped>\n",
              "    .dataframe tbody tr th:only-of-type {\n",
              "        vertical-align: middle;\n",
              "    }\n",
              "\n",
              "    .dataframe tbody tr th {\n",
              "        vertical-align: top;\n",
              "    }\n",
              "\n",
              "    .dataframe thead th {\n",
              "        text-align: right;\n",
              "    }\n",
              "</style>\n",
              "<table border=\"1\" class=\"dataframe\">\n",
              "  <thead>\n",
              "    <tr style=\"text-align: right;\">\n",
              "      <th></th>\n",
              "      <th>_id</th>\n",
              "      <th>userAddress</th>\n",
              "      <th>parentContract</th>\n",
              "      <th>childContract</th>\n",
              "      <th>nftId</th>\n",
              "      <th>currentLevel</th>\n",
              "      <th>currentMMR</th>\n",
              "      <th>guildName</th>\n",
              "      <th>levelURIs</th>\n",
              "      <th>baseImageURL</th>\n",
              "      <th>__v</th>\n",
              "      <th>metadata</th>\n",
              "    </tr>\n",
              "  </thead>\n",
              "  <tbody>\n",
              "    <tr>\n",
              "      <th>2</th>\n",
              "      <td>627ed7e812651145b6cf4a85</td>\n",
              "      <td>0x1D95a1198a12ac56B3AF3247B1520e943a202635</td>\n",
              "      <td>0x9e5BA1E0E88c7B60d94a95B976424D2a544c5a66</td>\n",
              "      <td>0x4324C8d53341A9e837A88cBeCC49bB489aC24414</td>\n",
              "      <td>1</td>\n",
              "      <td>0</td>\n",
              "      <td>0</td>\n",
              "      <td>Blockchain Gaming</td>\n",
              "      <td>[{'boolean': True, 'url': ''}]</td>\n",
              "      <td>https://ipfs.io/ipfs/bafkreicoltmqcjk2ggniooxb...</td>\n",
              "      <td>0.0</td>\n",
              "      <td>ipfs://bafyreifzl5rvsmz7juof4yclfqhvymc2mnfuyq...</td>\n",
              "    </tr>\n",
              "    <tr>\n",
              "      <th>5</th>\n",
              "      <td>627ed86112651145b6cf4a8d</td>\n",
              "      <td>0x44f27E496CBaeC411561400DEB31d3E5B011175d</td>\n",
              "      <td>0x9e5BA1E0E88c7B60d94a95B976424D2a544c5a66</td>\n",
              "      <td>0x4324C8d53341A9e837A88cBeCC49bB489aC24414</td>\n",
              "      <td>2</td>\n",
              "      <td>0</td>\n",
              "      <td>0</td>\n",
              "      <td>Blockchain Gaming</td>\n",
              "      <td>[{'boolean': True, 'url': ''}]</td>\n",
              "      <td>https://ipfs.io/ipfs/bafkreicoltmqcjk2ggniooxb...</td>\n",
              "      <td>0.0</td>\n",
              "      <td>ipfs://bafyreiazikw27uwpgghh5tligqjux2ixj6j6zu...</td>\n",
              "    </tr>\n",
              "    <tr>\n",
              "      <th>8</th>\n",
              "      <td>627ed88212651145b6cf4a97</td>\n",
              "      <td>0xa38Dc9e4123f3DC8669F5E89a3A8d7A7633aC941</td>\n",
              "      <td>0x9e5BA1E0E88c7B60d94a95B976424D2a544c5a66</td>\n",
              "      <td>0x4324C8d53341A9e837A88cBeCC49bB489aC24414</td>\n",
              "      <td>3</td>\n",
              "      <td>0</td>\n",
              "      <td>0</td>\n",
              "      <td>Blockchain Gaming</td>\n",
              "      <td>[{'boolean': True, 'url': ''}]</td>\n",
              "      <td>https://ipfs.io/ipfs/bafkreicoltmqcjk2ggniooxb...</td>\n",
              "      <td>0.0</td>\n",
              "      <td>ipfs://bafyreihh4nm4fwvixuuiehx76rbfrnrtd5hrjt...</td>\n",
              "    </tr>\n",
              "  </tbody>\n",
              "</table>\n",
              "</div>\n",
              "      <button class=\"colab-df-convert\" onclick=\"convertToInteractive('df-851903a2-6d49-4d5e-95ee-ee0fae254fcd')\"\n",
              "              title=\"Convert this dataframe to an interactive table.\"\n",
              "              style=\"display:none;\">\n",
              "        \n",
              "  <svg xmlns=\"http://www.w3.org/2000/svg\" height=\"24px\"viewBox=\"0 0 24 24\"\n",
              "       width=\"24px\">\n",
              "    <path d=\"M0 0h24v24H0V0z\" fill=\"none\"/>\n",
              "    <path d=\"M18.56 5.44l.94 2.06.94-2.06 2.06-.94-2.06-.94-.94-2.06-.94 2.06-2.06.94zm-11 1L8.5 8.5l.94-2.06 2.06-.94-2.06-.94L8.5 2.5l-.94 2.06-2.06.94zm10 10l.94 2.06.94-2.06 2.06-.94-2.06-.94-.94-2.06-.94 2.06-2.06.94z\"/><path d=\"M17.41 7.96l-1.37-1.37c-.4-.4-.92-.59-1.43-.59-.52 0-1.04.2-1.43.59L10.3 9.45l-7.72 7.72c-.78.78-.78 2.05 0 2.83L4 21.41c.39.39.9.59 1.41.59.51 0 1.02-.2 1.41-.59l7.78-7.78 2.81-2.81c.8-.78.8-2.07 0-2.86zM5.41 20L4 18.59l7.72-7.72 1.47 1.35L5.41 20z\"/>\n",
              "  </svg>\n",
              "      </button>\n",
              "      \n",
              "  <style>\n",
              "    .colab-df-container {\n",
              "      display:flex;\n",
              "      flex-wrap:wrap;\n",
              "      gap: 12px;\n",
              "    }\n",
              "\n",
              "    .colab-df-convert {\n",
              "      background-color: #E8F0FE;\n",
              "      border: none;\n",
              "      border-radius: 50%;\n",
              "      cursor: pointer;\n",
              "      display: none;\n",
              "      fill: #1967D2;\n",
              "      height: 32px;\n",
              "      padding: 0 0 0 0;\n",
              "      width: 32px;\n",
              "    }\n",
              "\n",
              "    .colab-df-convert:hover {\n",
              "      background-color: #E2EBFA;\n",
              "      box-shadow: 0px 1px 2px rgba(60, 64, 67, 0.3), 0px 1px 3px 1px rgba(60, 64, 67, 0.15);\n",
              "      fill: #174EA6;\n",
              "    }\n",
              "\n",
              "    [theme=dark] .colab-df-convert {\n",
              "      background-color: #3B4455;\n",
              "      fill: #D2E3FC;\n",
              "    }\n",
              "\n",
              "    [theme=dark] .colab-df-convert:hover {\n",
              "      background-color: #434B5C;\n",
              "      box-shadow: 0px 1px 3px 1px rgba(0, 0, 0, 0.15);\n",
              "      filter: drop-shadow(0px 1px 2px rgba(0, 0, 0, 0.3));\n",
              "      fill: #FFFFFF;\n",
              "    }\n",
              "  </style>\n",
              "\n",
              "      <script>\n",
              "        const buttonEl =\n",
              "          document.querySelector('#df-851903a2-6d49-4d5e-95ee-ee0fae254fcd button.colab-df-convert');\n",
              "        buttonEl.style.display =\n",
              "          google.colab.kernel.accessAllowed ? 'block' : 'none';\n",
              "\n",
              "        async function convertToInteractive(key) {\n",
              "          const element = document.querySelector('#df-851903a2-6d49-4d5e-95ee-ee0fae254fcd');\n",
              "          const dataTable =\n",
              "            await google.colab.kernel.invokeFunction('convertToInteractive',\n",
              "                                                     [key], {});\n",
              "          if (!dataTable) return;\n",
              "\n",
              "          const docLinkHtml = 'Like what you see? Visit the ' +\n",
              "            '<a target=\"_blank\" href=https://colab.research.google.com/notebooks/data_table.ipynb>data table notebook</a>'\n",
              "            + ' to learn more about interactive tables.';\n",
              "          element.innerHTML = '';\n",
              "          dataTable['output_type'] = 'display_data';\n",
              "          await google.colab.output.renderOutput(dataTable, element);\n",
              "          const docLink = document.createElement('div');\n",
              "          docLink.innerHTML = docLinkHtml;\n",
              "          element.appendChild(docLink);\n",
              "        }\n",
              "      </script>\n",
              "    </div>\n",
              "  </div>\n",
              "  "
            ]
          },
          "metadata": {},
          "execution_count": 10
        }
      ]
    },
    {
      "cell_type": "markdown",
      "source": [
        "### Connecting to contract"
      ],
      "metadata": {
        "id": "TBJ7KT_XB1Fu"
      },
      "id": "TBJ7KT_XB1Fu"
    },
    {
      "cell_type": "markdown",
      "id": "7788a3b4",
      "metadata": {
        "id": "7788a3b4"
      },
      "source": [
        "Greeter deployed to: 0x29000D9bF79AB13F50B7fb9FDd3b1c3edB396Eee"
      ]
    },
    {
      "cell_type": "code",
      "source": [
        "parentContractAddress = \"\"\n",
        "childContractAddress = \"\""
      ],
      "metadata": {
        "id": "y9760VWSyRGB"
      },
      "id": "y9760VWSyRGB",
      "execution_count": null,
      "outputs": []
    },
    {
      "cell_type": "code",
      "execution_count": null,
      "id": "4d97eb26",
      "metadata": {
        "id": "4d97eb26"
      },
      "outputs": [],
      "source": [
        "from web3 import Web3\n",
        "from solcx import compile_source\n",
        "w3 = Web3(Web3.HTTPProvider('INSERTINFURA'))"
      ]
    },
    {
      "cell_type": "code",
      "execution_count": null,
      "id": "8e9b9f22",
      "metadata": {
        "colab": {
          "base_uri": "https://localhost:8080/"
        },
        "id": "8e9b9f22",
        "outputId": "1c18e513-67a6-489b-aa9f-93df7fddbe80"
      },
      "outputs": [
        {
          "output_type": "execute_result",
          "data": {
            "text/plain": [
              "True"
            ]
          },
          "metadata": {},
          "execution_count": 13
        }
      ],
      "source": [
        "w3.isConnected()"
      ]
    },
    {
      "cell_type": "code",
      "source": [
        "myAbi =  [\"INSERT ABI\"\n",
        "  ]"
      ],
      "metadata": {
        "id": "EsqO6Y19_mga"
      },
      "id": "EsqO6Y19_mga",
      "execution_count": null,
      "outputs": []
    },
    {
      "cell_type": "code",
      "source": [
        "# print(abiOld)"
      ],
      "metadata": {
        "id": "21Hq8MxnCMe3"
      },
      "id": "21Hq8MxnCMe3",
      "execution_count": null,
      "outputs": []
    },
    {
      "cell_type": "code",
      "source": [
        "parent = w3.eth.contract( address= parentContractAddress, abi=myAbi )"
      ],
      "metadata": {
        "id": "-XX1NVJ5DFZh"
      },
      "id": "-XX1NVJ5DFZh",
      "execution_count": null,
      "outputs": []
    },
    {
      "cell_type": "code",
      "source": [
        "Private_Key  =  'INSERTPRIVATEKEY'\n",
        "from_address  =  'INSERT ADDRESS'"
      ],
      "metadata": {
        "id": "8s0TTKrcDcGW"
      },
      "id": "8s0TTKrcDcGW",
      "execution_count": null,
      "outputs": []
    },
    {
      "cell_type": "code",
      "source": [
        "gasPrice = w3.toWei('12', 'gwei') # gas price based on recent txns from polygonscan"
      ],
      "metadata": {
        "id": "iO-Q7vADJwIw"
      },
      "id": "iO-Q7vADJwIw",
      "execution_count": null,
      "outputs": []
    },
    {
      "cell_type": "code",
      "source": [
        "userAddresses = []\n",
        "uriArray = []\n",
        "for i in range(len(df)):\n",
        "  userAddresses.append(df.iloc[i]['userAddress'])\n",
        "  uriArray.append(df.iloc[i]['metadata'])"
      ],
      "metadata": {
        "id": "OST_GO_ZLnP8"
      },
      "id": "OST_GO_ZLnP8",
      "execution_count": null,
      "outputs": []
    },
    {
      "cell_type": "code",
      "source": [
        "len(userAddresses)"
      ],
      "metadata": {
        "colab": {
          "base_uri": "https://localhost:8080/"
        },
        "id": "pabMEMw3ki6_",
        "outputId": "5b8eeb26-4866-4676-f320-69833f16d0c0"
      },
      "id": "pabMEMw3ki6_",
      "execution_count": null,
      "outputs": [
        {
          "output_type": "execute_result",
          "data": {
            "text/plain": [
              "40"
            ]
          },
          "metadata": {},
          "execution_count": 20
        }
      ]
    },
    {
      "cell_type": "code",
      "source": [
        "transaction = parent.functions.mintBatch(userAddresses[:10], uriArray[:10]).buildTransaction({\n",
        "    'gasPrice': gasPrice,\n",
        "    'from': from_address,\n",
        "    'nonce': w3.eth.getTransactionCount(from_address)\n",
        "    }) \n",
        "signed_txn = w3.eth.account.signTransaction(transaction, private_key=Private_Key)\n",
        "txHash = w3.eth.sendRawTransaction(signed_txn.rawTransaction)\n",
        "txHash"
      ],
      "metadata": {
        "id": "8wavx1BUQhHW",
        "colab": {
          "base_uri": "https://localhost:8080/"
        },
        "outputId": "283fff03-8aa8-4564-a5cd-01a26ea54cb9"
      },
      "id": "8wavx1BUQhHW",
      "execution_count": null,
      "outputs": [
        {
          "output_type": "execute_result",
          "data": {
            "text/plain": [
              "HexBytes('0xa3302f4a50b2270b5b280baccfd20cb70ed3cc77471e70e8a47eaeb1b350da9f')"
            ]
          },
          "metadata": {},
          "execution_count": 21
        }
      ]
    },
    {
      "cell_type": "code",
      "source": [
        "tx_receipt = w3.eth.wait_for_transaction_receipt(txHash)\n",
        "print(\"Transaction confirmed for first 10\")"
      ],
      "metadata": {
        "colab": {
          "base_uri": "https://localhost:8080/"
        },
        "id": "1yyKoJINRzq3",
        "outputId": "775acacb-b236-4c02-abfb-00aeacd88d7a"
      },
      "id": "1yyKoJINRzq3",
      "execution_count": null,
      "outputs": [
        {
          "output_type": "stream",
          "name": "stdout",
          "text": [
            "Transaction confirmed for first 10\n"
          ]
        }
      ]
    },
    {
      "cell_type": "code",
      "source": [
        "transaction = parent.functions.mintBatch(userAddresses[10:20], uriArray[10:20]).buildTransaction({\n",
        "    'gasPrice': gasPrice,\n",
        "    'from': from_address,\n",
        "    'nonce': w3.eth.getTransactionCount(from_address)\n",
        "    }) \n",
        "signed_txn = w3.eth.account.signTransaction(transaction, private_key=Private_Key)\n",
        "txHash = w3.eth.sendRawTransaction(signed_txn.rawTransaction)\n",
        "txHash"
      ],
      "metadata": {
        "colab": {
          "base_uri": "https://localhost:8080/"
        },
        "id": "J930QSS1ihnV",
        "outputId": "2f0683b9-3ed2-475e-c375-bbe0a546afe9"
      },
      "id": "J930QSS1ihnV",
      "execution_count": null,
      "outputs": [
        {
          "output_type": "execute_result",
          "data": {
            "text/plain": [
              "HexBytes('0x300a3c67e89ac78f5db091dbbaee3e7f9c03c02e22f18bcccd886853d24be69d')"
            ]
          },
          "metadata": {},
          "execution_count": 23
        }
      ]
    },
    {
      "cell_type": "code",
      "source": [
        "tx_receipt = w3.eth.wait_for_transaction_receipt(txHash)\n",
        "print(\"Transaction confirmed for 10-20\")"
      ],
      "metadata": {
        "colab": {
          "base_uri": "https://localhost:8080/"
        },
        "id": "oXUdcue6ihiy",
        "outputId": "754b6745-254d-445f-8701-365b8de62b56"
      },
      "id": "oXUdcue6ihiy",
      "execution_count": null,
      "outputs": [
        {
          "output_type": "stream",
          "name": "stdout",
          "text": [
            "Transaction confirmed for 10-20\n"
          ]
        }
      ]
    },
    {
      "cell_type": "code",
      "source": [
        "transaction = parent.functions.mintBatch(userAddresses[20:30], uriArray[20:30]).buildTransaction({\n",
        "    'gasPrice': gasPrice,\n",
        "    'from': from_address,\n",
        "    'nonce': w3.eth.getTransactionCount(from_address)\n",
        "    }) \n",
        "signed_txn = w3.eth.account.signTransaction(transaction, private_key=Private_Key)\n",
        "txHash = w3.eth.sendRawTransaction(signed_txn.rawTransaction)\n",
        "txHash"
      ],
      "metadata": {
        "colab": {
          "base_uri": "https://localhost:8080/"
        },
        "id": "XbGTKeCuioAE",
        "outputId": "e0fd1217-7794-41db-aebf-520116a7bf6d"
      },
      "id": "XbGTKeCuioAE",
      "execution_count": null,
      "outputs": [
        {
          "output_type": "execute_result",
          "data": {
            "text/plain": [
              "HexBytes('0x0037286f2b5cb82452a3ae04100ea6517087a2c4c76a28262a0c364a3562631e')"
            ]
          },
          "metadata": {},
          "execution_count": 25
        }
      ]
    },
    {
      "cell_type": "code",
      "source": [
        "tx_receipt = w3.eth.wait_for_transaction_receipt(txHash)\n",
        "print(\"Transaction confirmed for 20-30\")"
      ],
      "metadata": {
        "colab": {
          "base_uri": "https://localhost:8080/"
        },
        "id": "cigjKD-BiomH",
        "outputId": "a88749ac-6d18-4463-8dc7-dbdcb3b9d460"
      },
      "id": "cigjKD-BiomH",
      "execution_count": null,
      "outputs": [
        {
          "output_type": "stream",
          "name": "stdout",
          "text": [
            "Transaction confirmed for 20-30\n"
          ]
        }
      ]
    },
    {
      "cell_type": "code",
      "source": [
        "transaction = parent.functions.mintBatch(userAddresses[30:40], uriArray[30:40]).buildTransaction({\n",
        "    'gasPrice': gasPrice,\n",
        "    'from': from_address,\n",
        "    'nonce': w3.eth.getTransactionCount(from_address)\n",
        "    }) \n",
        "signed_txn = w3.eth.account.signTransaction(transaction, private_key=Private_Key)\n",
        "txHash = w3.eth.sendRawTransaction(signed_txn.rawTransaction)\n",
        "txHash"
      ],
      "metadata": {
        "colab": {
          "base_uri": "https://localhost:8080/"
        },
        "id": "iPKQOZGLisxg",
        "outputId": "e4253780-ac99-4c10-a4c6-e8250b0ac302"
      },
      "id": "iPKQOZGLisxg",
      "execution_count": null,
      "outputs": [
        {
          "output_type": "execute_result",
          "data": {
            "text/plain": [
              "HexBytes('0xf250dba484a255935f82af26b7d5898371369e863a34ea7c97ddd22581758c7d')"
            ]
          },
          "metadata": {},
          "execution_count": 27
        }
      ]
    },
    {
      "cell_type": "code",
      "source": [
        "tx_receipt = w3.eth.wait_for_transaction_receipt(txHash)\n",
        "print(\"Transaction confirmed for 30-40\")"
      ],
      "metadata": {
        "colab": {
          "base_uri": "https://localhost:8080/"
        },
        "id": "GMlsWkWPiuEm",
        "outputId": "28297a47-3a19-4c6b-cc56-5a2c9820ec17"
      },
      "id": "GMlsWkWPiuEm",
      "execution_count": null,
      "outputs": [
        {
          "output_type": "stream",
          "name": "stdout",
          "text": [
            "Transaction confirmed for 30-40\n"
          ]
        }
      ]
    },
    {
      "cell_type": "code",
      "source": [
        "transaction = parent.functions.mintBatch(userAddresses[40:], uriArray[40:]).buildTransaction({\n",
        "    'gasPrice': gasPrice,\n",
        "    'from': from_address,\n",
        "    'nonce': w3.eth.getTransactionCount(from_address)\n",
        "    }) \n",
        "signed_txn = w3.eth.account.signTransaction(transaction, private_key=Private_Key)\n",
        "txHash = w3.eth.sendRawTransaction(signed_txn.rawTransaction)\n",
        "txHash"
      ],
      "metadata": {
        "id": "RE0EJjQFitr4",
        "colab": {
          "base_uri": "https://localhost:8080/"
        },
        "outputId": "994f8b41-3f4f-4fc2-db4d-be614d3bcec3"
      },
      "id": "RE0EJjQFitr4",
      "execution_count": null,
      "outputs": [
        {
          "output_type": "execute_result",
          "data": {
            "text/plain": [
              "HexBytes('0x529cfbfa24353ea65b8147196e2c9845507a70c42846e3bdb995c0257d61e707')"
            ]
          },
          "metadata": {},
          "execution_count": 30
        }
      ]
    },
    {
      "cell_type": "code",
      "source": [
        "tx_receipt = w3.eth.wait_for_transaction_receipt(txHash)\n",
        "print(\"Transaction confirmed for 40-\")"
      ],
      "metadata": {
        "colab": {
          "base_uri": "https://localhost:8080/"
        },
        "id": "vO9i8SVHi1HI",
        "outputId": "ca437656-73b9-4fe4-a27b-7cc8ec550be0"
      },
      "id": "vO9i8SVHi1HI",
      "execution_count": null,
      "outputs": [
        {
          "output_type": "stream",
          "name": "stdout",
          "text": [
            "Transaction confirmed for 40-\n"
          ]
        }
      ]
    },
    {
      "cell_type": "markdown",
      "source": [
        "### Getting ID's of deployed NFTs"
      ],
      "metadata": {
        "id": "e4lay80ahgVm"
      },
      "id": "e4lay80ahgVm"
    },
    {
      "cell_type": "code",
      "source": [
        "deployedIds = {}\n",
        "for i in userAddresses:\n",
        "  deployedIds[i] = parent.functions.getComposableId(i).call()"
      ],
      "metadata": {
        "id": "tJZorA79hfEm"
      },
      "id": "tJZorA79hfEm",
      "execution_count": null,
      "outputs": []
    },
    {
      "cell_type": "code",
      "source": [
        "# db.collection.insert_many(df.to_dict('records'))"
      ],
      "metadata": {
        "id": "MpqPkm_xk0OF"
      },
      "id": "MpqPkm_xk0OF",
      "execution_count": null,
      "outputs": []
    },
    {
      "cell_type": "code",
      "source": [
        "dataForInsertion = {\n",
        "  'userAddress':[],\n",
        "  'parentContract':[],\n",
        "  'childContract':[],\n",
        "  'nftId':[],\n",
        "  'currentLevel':[],\n",
        "  'currentMMR':[],\n",
        "  'guildName':[],\n",
        "  'levelURIs':[],\n",
        "  'baseImageURL':[],\n",
        "  '__v':[],\n",
        "  'metadata':[],\n",
        "}"
      ],
      "metadata": {
        "id": "OrRQ9cBVxnpe"
      },
      "id": "OrRQ9cBVxnpe",
      "execution_count": null,
      "outputs": []
    },
    {
      "cell_type": "code",
      "source": [
        "for i in range(len(df)):\n",
        "  row = df.iloc[i]\n",
        "  # dataForInsertion['_id'].append(row['_id'])\n",
        "  dataForInsertion['userAddress'].append(row['userAddress'])\n",
        "  dataForInsertion['parentContract'].append(parentContractAddress)\n",
        "  dataForInsertion['childContract'].append(childContractAddress)\n",
        "  dataForInsertion['nftId'].append(deployedIds[row['userAddress']])\n",
        "  dataForInsertion['currentLevel'].append(row['currentLevel'])\n",
        "  dataForInsertion['currentMMR'].append(row['currentMMR'])\n",
        "  dataForInsertion['guildName'].append(row['guildName'])\n",
        "  dataForInsertion['levelURIs'].append(row['levelURIs'][0])\n",
        "  dataForInsertion['baseImageURL'].append(row['baseImageURL'])\n",
        "  dataForInsertion['__v'].append(row['__v'])\n",
        "  dataForInsertion['metadata'].append(row['metadata'])"
      ],
      "metadata": {
        "id": "j1hCmb_suq1D"
      },
      "id": "j1hCmb_suq1D",
      "execution_count": null,
      "outputs": []
    },
    {
      "cell_type": "code",
      "source": [
        "newDf = pd.DataFrame.from_dict(dataForInsertion)"
      ],
      "metadata": {
        "id": "FDy894JRz5By"
      },
      "id": "FDy894JRz5By",
      "execution_count": null,
      "outputs": []
    },
    {
      "cell_type": "code",
      "source": [
        "newDf.head()"
      ],
      "metadata": {
        "id": "3q4jhOeL0v4J"
      },
      "id": "3q4jhOeL0v4J",
      "execution_count": null,
      "outputs": []
    },
    {
      "cell_type": "code",
      "source": [
        "newDf.to_csv(\"Deployed_Data.csv\")"
      ],
      "metadata": {
        "id": "BmyuWk_q1Lbk"
      },
      "id": "BmyuWk_q1Lbk",
      "execution_count": null,
      "outputs": []
    },
    {
      "cell_type": "code",
      "source": [
        "nftsData.insert_many(newDf.to_dict('records'))"
      ],
      "metadata": {
        "id": "b25yD42I4Zdq"
      },
      "id": "b25yD42I4Zdq",
      "execution_count": null,
      "outputs": []
    },
    {
      "cell_type": "markdown",
      "source": [
        "> 1200 MMR = level 0\n",
        "\n",
        "> 1400 MMR = level 1\n",
        "\n",
        "> 1600 MMR = level 2\n",
        "\n",
        "> 1800 MMR = level 3\n",
        "\n",
        "> 2000 MMR = level 4\n",
        "\n",
        "> 2200 MMR = level 5\n",
        "\n",
        "> 2400 MMR = level 6\n",
        "\n",
        "> 2600 MMR = level 7\n",
        "\n",
        "> 2800 MMR = level 8\n",
        "\n",
        "> 3000 MMR = level 9\n",
        "\n",
        "> 3200+ MMR = level 10"
      ],
      "metadata": {
        "id": "sn-DF0RrtNqI"
      },
      "id": "sn-DF0RrtNqI"
    },
    {
      "cell_type": "code",
      "source": [
        "upgradeCosts = [1200,1400,1600,1800,2000,2200,2400,2600,2800,3000,3200]\n",
        "for i in range(11):\n",
        "  transaction = parent.functions.setTierUpgradeCost(i, upgradeCosts[i]).buildTransaction({\n",
        "    'gasPrice': gasPrice,\n",
        "    'from': from_address,\n",
        "    'nonce': w3.eth.getTransactionCount(from_address)\n",
        "    }) \n",
        "  signed_txn = w3.eth.account.signTransaction(transaction, private_key=Private_Key)\n",
        "  txHash = w3.eth.sendRawTransaction(signed_txn.rawTransaction)\n",
        "  tx_receipt = w3.eth.wait_for_transaction_receipt(txHash)\n",
        "  print(\"level upgraded for level i= \",i)"
      ],
      "metadata": {
        "id": "BJxv-VCK4beO",
        "colab": {
          "base_uri": "https://localhost:8080/"
        },
        "outputId": "94f3c9e8-15ff-4664-d996-bf2d712fff51"
      },
      "id": "BJxv-VCK4beO",
      "execution_count": null,
      "outputs": [
        {
          "output_type": "stream",
          "name": "stdout",
          "text": [
            "Transaction confirmed for i=  0\n",
            "Transaction confirmed for i=  1\n",
            "Transaction confirmed for i=  2\n",
            "Transaction confirmed for i=  3\n",
            "Transaction confirmed for i=  4\n",
            "Transaction confirmed for i=  5\n",
            "Transaction confirmed for i=  6\n",
            "Transaction confirmed for i=  7\n",
            "Transaction confirmed for i=  8\n",
            "Transaction confirmed for i=  9\n",
            "Transaction confirmed for i=  10\n"
          ]
        }
      ]
    },
    {
      "cell_type": "code",
      "source": [
        ""
      ],
      "metadata": {
        "id": "l7Kzn1Y3uL__"
      },
      "id": "l7Kzn1Y3uL__",
      "execution_count": null,
      "outputs": []
    }
  ],
  "metadata": {
    "kernelspec": {
      "display_name": "Python 3 (ipykernel)",
      "language": "python",
      "name": "python3"
    },
    "language_info": {
      "codemirror_mode": {
        "name": "ipython",
        "version": 3
      },
      "file_extension": ".py",
      "mimetype": "text/x-python",
      "name": "python",
      "nbconvert_exporter": "python",
      "pygments_lexer": "ipython3",
      "version": "3.9.7"
    },
    "colab": {
      "name": "MongoDB_data.ipynb",
      "provenance": [],
      "collapsed_sections": []
    }
  },
  "nbformat": 4,
  "nbformat_minor": 5
}